{
 "cells": [
  {
   "cell_type": "markdown",
   "metadata": {},
   "source": [
    "# SPLEX TME 4 - Decision Trees and Random Forest\n",
    "\n",
    "The goal of the TME is to develop practical skills to use decision trees and random forest for real biological applications.\n",
    "\n",
    "We will use the _scikit-learn Python_ library <http://scikit-learn.org> which is already installed on the computers.\n",
    "\n",
    "## Data\n",
    "\n",
    "Diabetes Remission Prediction. The problem is to predict whether a diabetic patient will resolve or will not resolve his diabetes after a gastric bypass surgery.\n",
    "\n",
    "- 1. `patients data.txt` – Observations: 200 patients, 4 clinical variables: age of patients (continuous), HbA1C (continuous), insuline taken (categorical, yes or not), other anti-diabetic drugs are taken (categorical, yes or not)\n",
    "\n",
    "- 2. `patients_classes.txt` – Classes: 0 (Diabetes Remission) and 1 (Non-Remission) for 200 patients\n",
    "\n",
    "## Libraries\n",
    "\n",
    "You will need to load the following packages:"
   ]
  },
  {
   "cell_type": "code",
   "execution_count": 1,
   "metadata": {},
   "outputs": [
    {
     "name": "stderr",
     "output_type": "stream",
     "text": [
      "/home/amandine/anaconda3/lib/python3.7/site-packages/sklearn/ensemble/weight_boosting.py:29: DeprecationWarning: numpy.core.umath_tests is an internal NumPy module and should not be imported. It will be removed in a future NumPy release.\n",
      "  from numpy.core.umath_tests import inner1d\n"
     ]
    }
   ],
   "source": [
    "import numpy as np\n",
    "import pandas as pd\n",
    "import graphviz\n",
    "from sklearn import tree\n",
    "from sklearn.ensemble import RandomForestClassifier"
   ]
  },
  {
   "cell_type": "markdown",
   "metadata": {},
   "source": [
    "## Analysis\n",
    "\n",
    "Read the data"
   ]
  },
  {
   "cell_type": "code",
   "execution_count": 2,
   "metadata": {},
   "outputs": [],
   "source": [
    "data_diabetes = pd.read_table('patients_data.txt',sep='\\t',header=None)\n",
    "classes_diabetes = pd.read_table('patients_classes.txt',sep='\\t',header=None)"
   ]
  },
  {
   "cell_type": "markdown",
   "metadata": {},
   "source": [
    "### 1. Decision trees\n",
    "\n",
    "- You can learn more about decision trees in Python here: <http://scikit-learn.org/stable/modules/tree.html>\n",
    "\n",
    "- Run the classifier to learn a model"
   ]
  },
  {
   "cell_type": "code",
   "execution_count": 3,
   "metadata": {},
   "outputs": [],
   "source": [
    "clf = tree.DecisionTreeClassifier()\n",
    "clf = clf.fit(data_diabetes, classes_diabetes)"
   ]
  },
  {
   "cell_type": "markdown",
   "metadata": {},
   "source": [
    "- Visualize the tree and save it as a .pdf"
   ]
  },
  {
   "cell_type": "code",
   "execution_count": 4,
   "metadata": {},
   "outputs": [
    {
     "data": {
      "text/plain": [
       "'diabetes remission.pdf'"
      ]
     },
     "execution_count": 4,
     "metadata": {},
     "output_type": "execute_result"
    }
   ],
   "source": [
    "feature_names = ['age', 'hba1c', 'insuline taken', 'other drugs taken']\n",
    "classes = ['DR','NDR']\n",
    "dot_data = tree.export_graphviz(clf, out_file=None,\n",
    "feature_names=feature_names,\n",
    "class_names=classes,\n",
    "filled=True, rounded=True,\n",
    "special_characters=True)\n",
    "graph = graphviz.Source(dot_data)\n",
    "graph.render(\"diabetes remission\")"
   ]
  },
  {
   "cell_type": "markdown",
   "metadata": {},
   "source": [
    "### 2. Random forest\n",
    "\n",
    "- You can learn more about the Random Forest in Python: <http://scikit-learn.org/stable/modules/generated/sklearn.ensemble.RandomForestClass.html>\n",
    "- To estimate a model:"
   ]
  },
  {
   "cell_type": "code",
   "execution_count": 5,
   "metadata": {},
   "outputs": [
    {
     "name": "stderr",
     "output_type": "stream",
     "text": [
      "/home/amandine/anaconda3/lib/python3.7/site-packages/ipykernel_launcher.py:2: DataConversionWarning: A column-vector y was passed when a 1d array was expected. Please change the shape of y to (n_samples,), for example using ravel().\n",
      "  \n"
     ]
    },
    {
     "data": {
      "text/plain": [
       "RandomForestClassifier(bootstrap=True, class_weight=None, criterion='gini',\n",
       "            max_depth=2, max_features='auto', max_leaf_nodes=None,\n",
       "            min_impurity_decrease=0.0, min_impurity_split=None,\n",
       "            min_samples_leaf=1, min_samples_split=2,\n",
       "            min_weight_fraction_leaf=0.0, n_estimators=10, n_jobs=1,\n",
       "            oob_score=False, random_state=0, verbose=0, warm_start=False)"
      ]
     },
     "execution_count": 5,
     "metadata": {},
     "output_type": "execute_result"
    }
   ],
   "source": [
    "clf2 = RandomForestClassifier(max_depth=2, random_state=0)\n",
    "clf2.fit(data_diabetes, classes_diabetes)"
   ]
  },
  {
   "cell_type": "markdown",
   "metadata": {},
   "source": [
    "- To make prediction with the random forest:"
   ]
  },
  {
   "cell_type": "code",
   "execution_count": 6,
   "metadata": {},
   "outputs": [
    {
     "data": {
      "text/plain": [
       "array([1, 1, 1, 1, 1, 1, 1, 1, 0, 0, 1, 1, 0, 1, 0, 1, 1, 0, 1, 0, 0, 1,\n",
       "       1, 0, 1, 1, 1, 0, 1, 0, 1, 1, 1, 1, 1, 0, 1, 1, 1, 1, 1, 1, 0, 0,\n",
       "       1, 0, 0, 1, 0, 1, 1, 1, 0, 1, 1, 1, 1, 1, 1, 1, 1, 1, 0, 1, 1, 1,\n",
       "       1, 1, 1, 1, 1, 1, 1, 0, 1, 1, 1, 1, 1, 1, 1, 1, 1, 1, 0, 0, 0, 1,\n",
       "       1, 1, 0, 0, 1, 0, 1, 0, 1, 1, 1, 1, 0, 0, 0, 0, 0, 0, 0, 0, 0, 0,\n",
       "       0, 1, 0, 0, 0, 0, 0, 1, 0, 0, 1, 0, 0, 0, 0, 0, 0, 0, 1, 0, 1, 0,\n",
       "       1, 0, 0, 0, 0, 0, 0, 1, 0, 0, 0, 1, 1, 0, 0, 0, 0, 0, 0, 0, 0, 1,\n",
       "       0, 1, 0, 0, 0, 0, 0, 0, 0, 0, 0, 0, 0, 0, 0, 1, 1, 0, 1, 0, 0, 0,\n",
       "       0, 0, 0, 1, 0, 0, 0, 1, 0, 0, 0, 1, 0, 0, 1, 1, 0, 0, 1, 0, 0, 0,\n",
       "       0, 1])"
      ]
     },
     "execution_count": 6,
     "metadata": {},
     "output_type": "execute_result"
    }
   ],
   "source": [
    "clf2.predict(data_diabetes)"
   ]
  },
  {
   "cell_type": "markdown",
   "metadata": {},
   "source": [
    "- To plot the influence of each variable in the model:"
   ]
  },
  {
   "cell_type": "code",
   "execution_count": 7,
   "metadata": {},
   "outputs": [
    {
     "data": {
      "text/plain": [
       "array([0.57112592, 0.14837838, 0.18705705, 0.09343866])"
      ]
     },
     "execution_count": 7,
     "metadata": {},
     "output_type": "execute_result"
    }
   ],
   "source": [
    "clf2.feature_importances_"
   ]
  },
  {
   "cell_type": "markdown",
   "metadata": {},
   "source": [
    "###  3. Comparison with the state-of-the-art clinical score DiaRem\n",
    "\n",
    "The DiaRem (Diabetes Remission score) was introduced recently by _Still et al.,2013_ (see the references below), and can be summarized by the following table:\n",
    "\n",
    "![](0.png)\n",
    "\n",
    "For a patient, if the sum of the scores over all clinical variables is $< 7$, we will classify this patient as one having the diabetes remission, otherwise, we will put him in the class of non-remission."
   ]
  },
  {
   "cell_type": "code",
   "execution_count": 8,
   "metadata": {},
   "outputs": [
    {
     "name": "stdout",
     "output_type": "stream",
     "text": [
      "below is the list of scores\n",
      "[8, 8, 4, 8, 11, 3, 7, 7, 8, 6, 3, 9, 6, 8, 5, 8, 4, 8, 8, 9, 6, 10, 7, 8, 10, 6, 4, 8, 7, 3, 7, 11, 7, 10, 9, 8, 8, 8, 8, 8, 10, 8, 5, 6, 9, 7, 6, 7, 4, 4, 4, 8, 5, 3, 4, 6, 5, 7, 9, 10, 8, 9, 6, 11, 8, 4, 9, 8, 9, 8, 4, 9, 9, 3, 5, 7, 10, 11, 11, 9, 6, 8, 10, 10, 6, 6, 8, 8, 6, 3, 1, 6, 9, 5, 6, 8, 9, 5, 4, 9, 1, 4, 6, 6, 2, 4, 2, 5, 7, 5, 4, 7, 4, 2, 4, 2, 1, 3, 7, 3, 6, 2, 3, 5, 5, 7, 7, 1, 6, 4, 9, 5, 8, 1, 5, 4, 5, 3, 1, 7, 0, 1, 4, 4, 6, 0, 5, 7, 1, 5, 7, 7, 5, 2, 6, 2, 4, 3, 1, 2, 1, 5, 1, 3, 1, 7, 2, 5, 2, 8, 2, 4, 7, 6, 7, 6, 2, 5, 5, 9, 2, 5, 7, 10, 8, 5, 6, 8, 7, 5, 3, 8, 5, 1, 7, 6, 3, 2, 6, 4]\n"
     ]
    }
   ],
   "source": [
    "# calcul of the score with DiaRem method for each patient\n",
    "\n",
    "classe=[]\n",
    "score=[]\n",
    "score_age=[]\n",
    "score_HbA=[]\n",
    "score_insuline=[]\n",
    "score_drugs=[]\n",
    "\n",
    "for i in range (len(data_diabetes)):\n",
    "    if data_diabetes.loc[i,0]<40:\n",
    "        score_age=score_age + [0]\n",
    "    elif 40<=data_diabetes.loc[i,0]<49:\n",
    "        score_age=score_age + [1]\n",
    "    elif 50<=data_diabetes.loc[i,0]<59:\n",
    "        score_age=score_age + [2]\n",
    "    else:\n",
    "        score_age=score_age + [3]\n",
    "\n",
    "    if data_diabetes.loc[i,1]<6.5:\n",
    "        score_HbA=score_HbA + [0]\n",
    "    elif 6.5<=data_diabetes.loc[i,1]<6.9:\n",
    "        score_HbA=score_HbA + [2]\n",
    "    elif 7<=data_diabetes.loc[i,1]<8.9:\n",
    "        score_HbA=score_HbA + [4]\n",
    "    else:\n",
    "        score_HbA=score_HbA + [6]\n",
    "\n",
    "    if data_diabetes.loc[i,2]==0:\n",
    "        score_insuline=score_insuline + [0]\n",
    "    else:\n",
    "        score_insuline=score_insuline + [1]\n",
    "\n",
    "    if data_diabetes.loc[i,3]==0:\n",
    "        score_drugs=score_drugs + [0]\n",
    "    else:\n",
    "        score_drugs=score_drugs + [1]\n",
    "        \n",
    "    score =score + [score_age[i]+score_drugs[i]+score_HbA[i]+score_insuline[i]]\n",
    "print(\"below is the list of scores\")   \n",
    "print(score)"
   ]
  },
  {
   "cell_type": "code",
   "execution_count": 9,
   "metadata": {},
   "outputs": [
    {
     "name": "stdout",
     "output_type": "stream",
     "text": [
      "below is the list of classes\n",
      "[1, 1, 0, 1, 1, 0, 1, 1, 1, 0, 0, 1, 0, 1, 0, 1, 0, 1, 1, 1, 0, 1, 1, 1, 1, 0, 0, 1, 1, 0, 1, 1, 1, 1, 1, 1, 1, 1, 1, 1, 1, 1, 0, 0, 1, 1, 0, 1, 0, 0, 0, 1, 0, 0, 0, 0, 0, 1, 1, 1, 1, 1, 0, 1, 1, 0, 1, 1, 1, 1, 0, 1, 1, 0, 0, 1, 1, 1, 1, 1, 0, 1, 1, 1, 0, 0, 1, 1, 0, 0, 0, 0, 1, 0, 0, 1, 1, 0, 0, 1, 0, 0, 0, 0, 0, 0, 0, 0, 1, 0, 0, 1, 0, 0, 0, 0, 0, 0, 1, 0, 0, 0, 0, 0, 0, 1, 1, 0, 0, 0, 1, 0, 1, 0, 0, 0, 0, 0, 0, 1, 0, 0, 0, 0, 0, 0, 0, 1, 0, 0, 1, 1, 0, 0, 0, 0, 0, 0, 0, 0, 0, 0, 0, 0, 0, 1, 0, 0, 0, 1, 0, 0, 1, 0, 1, 0, 0, 0, 0, 1, 0, 0, 1, 1, 1, 0, 0, 1, 1, 0, 0, 1, 0, 0, 1, 0, 0, 0, 0, 0]\n"
     ]
    }
   ],
   "source": [
    "# Calcul of the classes attributed thanks to the score\n",
    "\n",
    "for i in range(len(data_diabetes)):\n",
    "    if score[i]<7:\n",
    "        classe=classe + [0]\n",
    "    else:\n",
    "        classe=classe + [1]\n",
    "print(\"below is the list of classes\")        \n",
    "print(classe)"
   ]
  },
  {
   "cell_type": "markdown",
   "metadata": {},
   "source": [
    "### 4. Compare the predictive power of the considered models (decision trees, random forest, and the DiaRem). What can you conclude?\n",
    "\n",
    "## References:\n",
    "\n",
    "- 1. “The use of classification trees for bioinformatics” <http://moult.ibbr.umd.edu/JournalClubPresentations/Maya/Maya-04Feb2011-paper.pdf>\n",
    "\n",
    "- 2. “Preoperative prediction of type 2 diabetes remission after Roux-en-Y gastric bypass surgery: a retrospective cohort study” <https://www.ncbi.nlm.nih.gov/pubmed/24579062>"
   ]
  },
  {
   "cell_type": "code",
   "execution_count": 10,
   "metadata": {},
   "outputs": [
    {
     "name": "stdout",
     "output_type": "stream",
     "text": [
      "Display predict values from decisition tree\n",
      "[1 1 1 1 1 1 1 1 1 1 1 1 1 1 1 1 1 1 1 1 1 1 1 1 1 1 1 1 1 1 1 1 1 1 1 1 1\n",
      " 1 1 1 1 1 1 1 1 1 1 1 1 1 1 1 1 1 1 1 1 1 1 1 1 1 1 1 1 1 1 1 1 1 1 1 1 1\n",
      " 1 1 1 1 1 1 1 1 1 1 1 1 1 1 1 1 1 1 1 1 1 1 1 1 1 1 0 0 0 0 0 0 0 0 0 0 0\n",
      " 0 0 0 0 0 0 0 0 0 0 0 0 0 0 0 0 0 0 0 0 0 0 0 0 0 0 0 0 0 0 0 0 0 0 0 0 0\n",
      " 0 0 0 0 0 0 0 0 0 0 0 0 0 0 0 0 0 0 0 0 0 0 0 0 0 0 0 0 0 0 0 0 0 0 0 0 0\n",
      " 0 0 0 0 0 0 0 0 0 0 0 0 0 0 0]\n",
      "Display predict values from Random forest\n",
      "[1 1 1 1 1 1 1 1 0 0 1 1 0 1 0 1 1 0 1 0 0 1 1 0 1 1 1 0 1 0 1 1 1 1 1 0 1\n",
      " 1 1 1 1 1 0 0 1 0 0 1 0 1 1 1 0 1 1 1 1 1 1 1 1 1 0 1 1 1 1 1 1 1 1 1 1 0\n",
      " 1 1 1 1 1 1 1 1 1 1 0 0 0 1 1 1 0 0 1 0 1 0 1 1 1 1 0 0 0 0 0 0 0 0 0 0 0\n",
      " 1 0 0 0 0 0 1 0 0 1 0 0 0 0 0 0 0 1 0 1 0 1 0 0 0 0 0 0 1 0 0 0 1 1 0 0 0\n",
      " 0 0 0 0 0 1 0 1 0 0 0 0 0 0 0 0 0 0 0 0 0 1 1 0 1 0 0 0 0 0 0 1 0 0 0 1 0\n",
      " 0 0 1 0 0 1 1 0 0 1 0 0 0 0 1]\n"
     ]
    }
   ],
   "source": [
    "# to check the predictive model we need to look at the discordance between the truth values and the \n",
    "# predict values. For this we will compare the truth values of classes against the predict ones.\n",
    "\n",
    "#First we calculate the predict classes for each first models \n",
    "\n",
    "clf=clf.predict(data_diabetes)\n",
    "clf2=clf2.predict(data_diabetes)\n",
    "print(\"Display predict values from decisition tree\")\n",
    "print(clf)\n",
    "print(\"Display predict values from Random forest\")\n",
    "print(clf2)"
   ]
  },
  {
   "cell_type": "code",
   "execution_count": 11,
   "metadata": {},
   "outputs": [
    {
     "name": "stdout",
     "output_type": "stream",
     "text": [
      "Display the list of errors from decision tree model\n",
      "[[0 0 0 0 0 0 0 0 0 0 0 0 0 0 0 0 0 0 0 0 0 0 0 0 0 0 0 0 0 0 0 0 0 0 0 0\n",
      "  0 0 0 0 0 0 0 0 0 0 0 0 0 0 0 0 0 0 0 0 0 0 0 0 0 0 0 0 0 0 0 0 0 0 0 0\n",
      "  0 0 0 0 0 0 0 0 0 0 0 0 0 0 0 0 0 0 0 0 0 0 0 0 0 0 0 0 0 0 0 0 0 0 0 0\n",
      "  0 0 0 0 0 0 0 0 0 0 0 0 0 0 0 0 0 0 0 0 0 0 0 0 0 0 0 0 0 0 0 0 0 0 0 0\n",
      "  0 0 0 0 0 0 0 0 0 0 0 0 0 0 0 0 0 0 0 0 0 0 0 0 0 0 0 0 0 0 0 0 0 0 0 0\n",
      "  0 0 0 0 0 0 0 0 0 0 0 0 0 0 0 0 0 0 0 0]]\n",
      "Display the list of errors from random forest model\n",
      "[[ 0  0  0  0  0  0  0  0  1  1  0  0  1  0  1  0  0  1  0  1  1  0  0  1\n",
      "   0  0  0  1  0  1  0  0  0  0  0  1  0  0  0  0  0  0  1  1  0  1  1  0\n",
      "   1  0  0  0  1  0  0  0  0  0  0  0  0  0  1  0  0  0  0  0  0  0  0  0\n",
      "   0  1  0  0  0  0  0  0  0  0  0  0  1  1  1  0  0  0  1  1  0  1  0  1\n",
      "   0  0  0  0  0  0  0  0  0  0  0  0  0  0  0 -1  0  0  0  0  0 -1  0  0\n",
      "  -1  0  0  0  0  0  0  0 -1  0 -1  0 -1  0  0  0  0  0  0 -1  0  0  0 -1\n",
      "  -1  0  0  0  0  0  0  0  0 -1  0 -1  0  0  0  0  0  0  0  0  0  0  0  0\n",
      "   0 -1 -1  0 -1  0  0  0  0  0  0 -1  0  0  0 -1  0  0  0 -1  0  0 -1 -1\n",
      "   0  0 -1  0  0  0  0 -1]]\n",
      "Display the list of errors from DiaRem model\n",
      "[[ 0  0  1  0  0  1  0  0  0  1  1  0  1  0  1  0  1  0  0  0  1  0  0  0\n",
      "   0  1  1  0  0  1  0  0  0  0  0  0  0  0  0  0  0  0  1  1  0  0  1  0\n",
      "   1  1  1  0  1  1  1  1  1  0  0  0  0  0  1  0  0  1  0  0  0  0  1  0\n",
      "   0  1  1  0  0  0  0  0  1  0  0  0  1  1  0  0  1  1  1  1  0  1  1  0\n",
      "   0  1  1  0  0  0  0  0  0  0  0  0 -1  0  0 -1  0  0  0  0  0  0 -1  0\n",
      "   0  0  0  0  0 -1 -1  0  0  0 -1  0 -1  0  0  0  0  0  0 -1  0  0  0  0\n",
      "   0  0  0 -1  0  0 -1 -1  0  0  0  0  0  0  0  0  0  0  0  0  0 -1  0  0\n",
      "   0 -1  0  0 -1  0 -1  0  0  0  0 -1  0  0 -1 -1 -1  0  0 -1 -1  0  0 -1\n",
      "   0  0 -1  0  0  0  0  0]]\n",
      "display the error rate of decision tree:\n",
      "0\n",
      "display the error rate of random forest:\n",
      "47\n",
      "display the error rate of DiaRem:\n",
      "61\n"
     ]
    }
   ],
   "source": [
    "# then we make a substraction between the predict classes values obtained and the truth values for \n",
    "#each method (for that we need to convert all the data into the same type: we chose numpy array)\n",
    "\n",
    "classe=np.array(classe)\n",
    "classes_diabetes=np.array(classes_diabetes)\n",
    "classes_diabetes=np.transpose(classes_diabetes)\n",
    "\n",
    "Power_DiaRem= classes_diabetes - classe\n",
    "Power_Tree= classes_diabetes - clf\n",
    "Power_random= classes_diabetes - clf2\n",
    "\n",
    "print(\"Display the list of errors from decision tree model\")\n",
    "print(Power_Tree)\n",
    "print(\"Display the list of errors from random forest model\")\n",
    "print(Power_random)\n",
    "print(\"Display the list of errors from DiaRem model\")\n",
    "print(Power_DiaRem)\n",
    "\n",
    "print(\"display the error rate of decision tree:\")\n",
    "print(np.count_nonzero(Power_Tree))\n",
    "print(\"display the error rate of random forest:\")\n",
    "print(np.count_nonzero(Power_random))\n",
    "print(\"display the error rate of DiaRem:\")\n",
    "print(np.count_nonzero(Power_DiaRem))\n",
    "\n",
    "# Conclusion: The best predict power is attributed to the decision tree. Then the random forest also \n",
    "# works better against the DiaRem score. "
   ]
  }
 ],
 "metadata": {
  "kernelspec": {
   "display_name": "Python 3",
   "language": "python",
   "name": "python3"
  },
  "language_info": {
   "codemirror_mode": {
    "name": "ipython",
    "version": 3
   },
   "file_extension": ".py",
   "mimetype": "text/x-python",
   "name": "python",
   "nbconvert_exporter": "python",
   "pygments_lexer": "ipython3",
   "version": "3.6.6"
  }
 },
 "nbformat": 4,
 "nbformat_minor": 2
}
